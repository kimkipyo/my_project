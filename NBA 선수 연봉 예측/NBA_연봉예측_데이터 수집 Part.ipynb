{
 "cells": [
  {
   "cell_type": "markdown",
   "metadata": {},
   "source": [
    "## 데이터 수집_크롤링"
   ]
  },
  {
   "cell_type": "code",
   "execution_count": 1,
   "metadata": {
    "collapsed": true
   },
   "outputs": [],
   "source": [
    "#크롤링을 위한 라이브러리 import\n",
    "import requests\n",
    "import json\n",
    "from bs4 import BeautifulSoup\n",
    "import time"
   ]
  },
  {
   "cell_type": "markdown",
   "metadata": {},
   "source": [
    "* 선수들의 결기 결과 정보를 수집 http://stats.nba.com/league/player/#!/"
   ]
  },
  {
   "cell_type": "code",
   "execution_count": 2,
   "metadata": {
    "collapsed": true
   },
   "outputs": [],
   "source": [
    "def nba_player_dataset(start_year, end_year):\n",
    "    \n",
    "    df = pd.DataFrame(columns=[     #Data Frame을 만들어 놓는다.\n",
    "            'PLAYER_ID',\n",
    "            'PLAYER_NAME',\n",
    "            'TEAM_ID',\n",
    "            'TEAM_ABBREVIATION',\n",
    "            'AGE',\n",
    "            'GP',\n",
    "            'W',\n",
    "            'L',\n",
    "            'W_PCT',\n",
    "            'MIN',\n",
    "            'FGM',\n",
    "            'FGA',\n",
    "            'FG_PCT',\n",
    "            'FG3M',\n",
    "            'FG3A',\n",
    "            'FG3_PCT',\n",
    "            'FTM',\n",
    "            'FTA',\n",
    "            'FT_PCT',\n",
    "            'OREB',\n",
    "            'DREB',\n",
    "            'REB',\n",
    "            'AST',\n",
    "            'TOV',\n",
    "            'STL',\n",
    "            'BLK',\n",
    "            'BLKA',\n",
    "            'PF',\n",
    "            'PFD',\n",
    "            'PTS',\n",
    "            'PLUS_MINUS',\n",
    "            'DD2',\n",
    "            'TD3',\n",
    "            'CFID',\n",
    "            'CFPARAMS'\n",
    "        ])\n",
    "\n",
    "    headers = {\"Host\": \"stats.nba.com\",    \n",
    "           \"Connection\": \"keep-alive\",     \n",
    "           \"Cache-Control\": \"max-age=0\",\n",
    "           \"Upgrade-Insecure-Requests\": \"1\",\n",
    "           \"User-Agent\": \"Mozilla/5.0 (Windows NT 6.1; WOW64) AppleWebKit/537.36 (KHTML, like Gecko) Chrome/51.0.2704.106 Safari/537.36\",\n",
    "           \"Accept\": \"text/html,application/xhtml+xml,application/xml;q=0.9,image/webp,*/*;q=0.8\",\n",
    "           \"Accept-Encoding\": \"gzip, deflate, sdch\",\n",
    "           \"Accept-Language\": \"ko-KR,ko;q=0.8,en-US;q=0.6,en;q=0.4\",\n",
    "           \"Cookie\": \"__gads=ID=55abf9f2f51740da:T=1468809285:S=ALNI_MY-dnsIhCT3AYpUecmlj0ZKqrMHgg; ug=578c40400b3d570a3c8de1775a0654eb; ugs=1; AMCV_248F210755B762187F000101%40AdobeOrg=793872103%7CMCAID%7C2BC6202185010E9D-6000014220004ADC%7CMCIDTS%7C17003%7CMCMID%7C65921844489051295175108060016669540424%7CMCAAMLH-1469663344%7C11%7CMCAAMB-1469663345%7Chmk_Lq6TPIBMW925SPhw3Q; _ga=GA1.2.1703639531.1468809282; crtg_trnr=; s_cc=true; s_sq=%5B%5BB%5D%5D; s_vi=[CS]v1|2BC6202185010E9D-6000014220004ADC[CE]; s_fid=5D7B5004A055748E-0F0FA2BE698255F7\",\n",
    "           }\n",
    "   \n",
    "    \"\"\"\n",
    "    JSONDecodeError: Expecting value: line 1 column 1 (char 0)\n",
    "    headers를 지정하지 않으면 이러한 error가 나타날 것이다.\n",
    "    \n",
    "    #헤더 tuple을 지정한 이유는 응답 받을 때 요구 조건에 맞는 지 절차를 따르며 정확히 받아오기 위해서\n",
    "    \"\"\"\n",
    "    \n",
    "    for year in range(start_year, end_year+1):\n",
    "        frames = []                          #빈 리스트에 해마다 불러온 데이터를 저장한다.\n",
    "        year_plus_one = year + 1             #url 값을 계속해서 바꾸며 불러들이기 위해서\n",
    "        year_plus_one = str(year_plus_one)   #str으로 바꾸지 않으면 연도를 int로 인식한다.\n",
    "        year = str(year)                     #마찬가지. url 문자열과 같게 하기 위해서\n",
    "        url = \"\"\n",
    "        url = (\"http://stats.nba.com/stats/leaguedashplayerstats?College=&Conference=&Country=&DateFrom=&DateTo=&Division=&DraftPick=&DraftYear=&GameScope=&GameSegment=&Height=&LastNGames=0&LeagueID=00&Location=&MeasureType=Base&Month=0&OpponentTeamID=0&Outcome=&PORound=0&PaceAdjust=N&PerMode=PerGame&Period=0&PlayerExperience=&PlayerPosition=&PlusMinus=N&Rank=N&Season={start}-{end}&SeasonSegment=&SeasonType=Regular+Season&ShotClockRange=&StarterBench=&TeamID=0&VsConference=&VsDivision=&Weight=\"\n",
    "        .format(start=year, end=year_plus_one[2:]))\n",
    "        response = requests.get(url, headers=headers)     #헤더도 넣어주면 된다.\n",
    "        json_info = response.json()                       #json으로 요청 받고\n",
    "        nba_data = json_info[\"resultSets\"][0][\"rowSet\"]   # 필요한 데이터를 찾아서 변수에 넣는다.\n",
    "        \n",
    "        for i, data in enumerate(nba_data):               #for문을 돌면서 df라는 데이터프레임에 하나씩 쌓는다.\n",
    "                df.loc[i] = data\n",
    "        \n",
    "        frames.append(df)                                 #쌓은 df를 frames 리스트에 다시 쌓는다.\n",
    "        \n",
    "        result = pd.concat(frames)                        #쌓은 frames를 데이터프레임 형식으로 다시 불러와서\n",
    "        result.to_csv(\"{start}_nba_player_data_set.csv\".format(start=year))   #csv형태로 저장"
   ]
  },
  {
   "cell_type": "code",
   "execution_count": 38,
   "metadata": {
    "collapsed": false
   },
   "outputs": [],
   "source": [
    "nba_player_dataset(2005, 2011)   #오래 걸린다. 신중하게 선택해서 돌리자."
   ]
  },
  {
   "cell_type": "markdown",
   "metadata": {},
   "source": [
    "* 이번에는 연봉 데이터 수집\n",
    "http://espn.go.com/nba/salaries\n",
    "\n",
    "* 매년 전체 연봉 데이터를 mean값을 기준으로 비교해보면서\n",
    "\n",
    "* 물가상승률의 영향력을 언제부터 받았는지 알아보고 이용여부를 판단해보자"
   ]
  },
  {
   "cell_type": "code",
   "execution_count": 3,
   "metadata": {
    "collapsed": true
   },
   "outputs": [],
   "source": [
    "def nba_salary_player(year):   #연봉 데이터만 수집하는 함수\n",
    "\n",
    "    player_list = []\n",
    "    \n",
    "    for i in range(1, 12):\n",
    "        url = \"http://espn.go.com/nba/salaries/_/year/{year}/page/{i}/seasontype/4\".format(year=year+1, i=i)\n",
    "        response = requests.get(url)\n",
    "        dom = BeautifulSoup(response.content, \"html.parser\")\n",
    "        ranks = dom.select(\"tr.oddrow\")                               #한 페이지에 홀수줄, 짝수줄 20개씩 나누어져 있어서 따로 가져와서\n",
    "        for rank in ranks[0:20]:                                      #for문을 돌면서 name과 salary등 필요한 정보만 빈리스트에 추가\n",
    "            name = str(rank.select_one(\"a\")).split(\"</a>\")[0].split(\">\")[1]\n",
    "            salary = str(rank).split(\"</td></tr>\")[0].split(\">$\")[1]\n",
    "            player_list.append((name, salary))\n",
    "        ranks = dom.select(\"tr.evenrow\")\n",
    "        for rank in ranks[0:20]:\n",
    "            name = str(rank.select_one(\"a\")).split(\"</a>\")[0].split(\">\")[1]\n",
    "            salary = str(rank).split(\"</td></tr>\")[0].split(\">$\")[1]\n",
    "            player_list.append((name, salary))    \n",
    "    return player_list"
   ]
  },
  {
   "cell_type": "markdown",
   "metadata": {},
   "source": [
    "* 연봉데이터가 x년도이면 선수데이터는 x-1년도로 해서 합친 DataFrame은 x-1년도로 통일해서 합치기\n",
    "\n",
    "* 그렇게 활용한 연도의 데이터를 데이터프레임으로 만들겠다."
   ]
  },
  {
   "cell_type": "code",
   "execution_count": 4,
   "metadata": {
    "collapsed": true
   },
   "outputs": [],
   "source": [
    "#2015년도의 결과와 2016년 연봉 데이터 합침 => test set\n",
    "bin_list = nba_salary_player(2016)\n",
    "salary_2016_df = pd.DataFrame(bin_list)\n",
    "salary_2016_df.rename(columns={0: \"PLAYER_NAME\", 1: \"Salary\"}, inplace=True)\n",
    "player_2015_df = pd.read_csv(\"./2015_nba_player_data_set.csv\")\n",
    "# tmp = player_2015_df[\"GP\"] > 50   # => 이건 경기 수가 50경기 이상인 선수들만 뽑아서 해보았다,\n",
    "# player_2015_df = player_2015_df[tmp]   # => 이유는 정규분포 형태 구해보려고 했으나 실패\n",
    "player_salary_2015_df = player_2015_df.merge(salary_2016_df, on=\"PLAYER_NAME\")\n",
    "player_salary_2015_df[\"Salary\"] = player_salary_2015_df[\"Salary\"].apply(lambda x: np.int(x.replace(\",\", \"\")))"
   ]
  },
  {
   "cell_type": "code",
   "execution_count": 5,
   "metadata": {
    "collapsed": false
   },
   "outputs": [
    {
     "data": {
      "text/plain": [
       "(7372670.757575758, 330)"
      ]
     },
     "execution_count": 5,
     "metadata": {},
     "output_type": "execute_result"
    }
   ],
   "source": [
    "player_salary_2015_df[\"Salary\"].mean(), len(player_salary_2015_df)\n",
    "#원래는 test set 또한 물가가 비슷해야 하지만 크게 올랐다.\n",
    "#그래서 2014년도 데이터로 시험해 본 결과 크게 달라지지 않았다. 물가상승률이 영향을 주는 것은 아니었다."
   ]
  },
  {
   "cell_type": "markdown",
   "metadata": {},
   "source": [
    "* 무조건 합치는 것이 아니라 물가상승률을 고려하기 위하여\n",
    "\n",
    "* 아래와 같은 과정을 연도 숫자를 바꿔가며 2006년까지 계속 반복했음"
   ]
  },
  {
   "cell_type": "code",
   "execution_count": 6,
   "metadata": {
    "collapsed": false
   },
   "outputs": [],
   "source": [
    "#2014년 데이터 프레임 만들어서\n",
    "bin_list = nba_salary_player(2015)\n",
    "salary_2015_df = pd.DataFrame(bin_list)\n",
    "salary_2015_df.rename(columns={0: \"PLAYER_NAME\", 1: \"Salary\"}, inplace=True)\n",
    "player_2014_df = pd.read_csv(\"./2014_nba_player_data_set.csv\")\n",
    "# tmp = player_2014_df[\"GP\"] > 50\n",
    "# player_2014_df = player_2014_df[tmp]\n",
    "player_salary_2014_df = player_2014_df.merge(salary_2015_df, on=\"PLAYER_NAME\")\n",
    "player_salary_2014_df[\"Salary\"] = player_salary_2014_df[\"Salary\"].apply(lambda x: np.int(x.replace(\",\", \"\")))"
   ]
  },
  {
   "cell_type": "code",
   "execution_count": 7,
   "metadata": {
    "collapsed": false,
    "scrolled": true
   },
   "outputs": [
    {
     "data": {
      "text/plain": [
       "(5472950.560117302, 341)"
      ]
     },
     "execution_count": 7,
     "metadata": {},
     "output_type": "execute_result"
    }
   ],
   "source": [
    "player_salary_2014_df[\"Salary\"].mean(), len(player_salary_2014_df)"
   ]
  },
  {
   "cell_type": "code",
   "execution_count": 8,
   "metadata": {
    "collapsed": true
   },
   "outputs": [],
   "source": [
    "#2013년 데이터 프레임 만들어서\n",
    "bin_list = nba_salary_player(2014)\n",
    "salary_2014_df = pd.DataFrame(bin_list)\n",
    "salary_2014_df.rename(columns={0: \"PLAYER_NAME\", 1: \"Salary\"}, inplace=True)\n",
    "player_2013_df = pd.read_csv(\"./2013_nba_player_data_set.csv\")\n",
    "# tmp = player_2013_df[\"GP\"] > 50\n",
    "# player_2013_df = player_2013_df[tmp]\n",
    "player_salary_2013_df = player_2013_df.merge(salary_2014_df, on=\"PLAYER_NAME\")\n",
    "player_salary_2013_df[\"Salary\"] = player_salary_2013_df[\"Salary\"].apply(lambda x: np.int(x.replace(\",\", \"\")))"
   ]
  },
  {
   "cell_type": "code",
   "execution_count": 9,
   "metadata": {
    "collapsed": false
   },
   "outputs": [
    {
     "data": {
      "text/plain": [
       "(5075807.419354838, 341)"
      ]
     },
     "execution_count": 9,
     "metadata": {},
     "output_type": "execute_result"
    }
   ],
   "source": [
    "player_salary_2013_df[\"Salary\"].mean(), len(player_salary_2013_df)"
   ]
  },
  {
   "cell_type": "code",
   "execution_count": 10,
   "metadata": {
    "collapsed": false
   },
   "outputs": [],
   "source": [
    "#train set 만들기 위한 과정\n",
    "df_all = pd.concat([player_salary_2013_df, player_salary_2014_df], ignore_index=True)\n",
    "#ignore_index=True한 이유? 인덱스 통일해야 합니다. 그래야 관리 용이"
   ]
  },
  {
   "cell_type": "code",
   "execution_count": 11,
   "metadata": {
    "collapsed": false
   },
   "outputs": [
    {
     "data": {
      "text/plain": [
       "682"
      ]
     },
     "execution_count": 11,
     "metadata": {},
     "output_type": "execute_result"
    }
   ],
   "source": [
    "len(df_all)"
   ]
  },
  {
   "cell_type": "code",
   "execution_count": 12,
   "metadata": {
    "collapsed": true
   },
   "outputs": [],
   "source": [
    "bin_list = nba_salary_player(2013)   #2012년 추가\n",
    "salary_2013_df = pd.DataFrame(bin_list)\n",
    "salary_2013_df.rename(columns={0: \"PLAYER_NAME\", 1: \"Salary\"}, inplace=True)\n",
    "player_2012_df = pd.read_csv(\"./2012_nba_player_data_set.csv\")\n",
    "# tmp = player_2012_df[\"GP\"] > 50\n",
    "# player_2012_df = player_2012_df[tmp]\n",
    "player_salary_2012_df = player_2012_df.merge(salary_2013_df, on=\"PLAYER_NAME\")\n",
    "player_salary_2012_df[\"Salary\"] = player_salary_2012_df[\"Salary\"].apply(lambda x: np.int(x.replace(\",\", \"\")))"
   ]
  },
  {
   "cell_type": "code",
   "execution_count": 13,
   "metadata": {
    "collapsed": false
   },
   "outputs": [
    {
     "data": {
      "text/plain": [
       "(5218590.015527951, 322)"
      ]
     },
     "execution_count": 13,
     "metadata": {},
     "output_type": "execute_result"
    }
   ],
   "source": [
    "player_salary_2012_df[\"Salary\"].mean(), len(player_salary_2012_df)"
   ]
  },
  {
   "cell_type": "code",
   "execution_count": 14,
   "metadata": {
    "collapsed": false
   },
   "outputs": [
    {
     "data": {
      "text/plain": [
       "1004"
      ]
     },
     "execution_count": 14,
     "metadata": {},
     "output_type": "execute_result"
    }
   ],
   "source": [
    "df_all = pd.concat([player_salary_2012_df, df_all], ignore_index=True)\n",
    "len(df_all)"
   ]
  },
  {
   "cell_type": "code",
   "execution_count": 15,
   "metadata": {
    "collapsed": true
   },
   "outputs": [],
   "source": [
    "bin_list = nba_salary_player(2012)   #2011년 추가\n",
    "salary_2012_df = pd.DataFrame(bin_list)\n",
    "salary_2012_df.rename(columns={0: \"PLAYER_NAME\", 1: \"Salary\"}, inplace=True)\n",
    "player_2011_df = pd.read_csv(\"./2011_nba_player_data_set.csv\")\n",
    "# tmp = player_2011_df[\"GP\"] > 50\n",
    "# player_2011_df = player_2011_df[tmp]\n",
    "player_salary_2011_df = player_2011_df.merge(salary_2012_df, on=\"PLAYER_NAME\")\n",
    "player_salary_2011_df[\"Salary\"] = player_salary_2011_df[\"Salary\"].apply(lambda x: np.int(x.replace(\",\", \"\")))"
   ]
  },
  {
   "cell_type": "code",
   "execution_count": 16,
   "metadata": {
    "collapsed": false
   },
   "outputs": [
    {
     "data": {
      "text/plain": [
       "(5396027.7192429025, 317)"
      ]
     },
     "execution_count": 16,
     "metadata": {},
     "output_type": "execute_result"
    }
   ],
   "source": [
    "player_salary_2011_df[\"Salary\"].mean(), len(player_salary_2011_df)"
   ]
  },
  {
   "cell_type": "code",
   "execution_count": 17,
   "metadata": {
    "collapsed": false
   },
   "outputs": [
    {
     "data": {
      "text/plain": [
       "1321"
      ]
     },
     "execution_count": 17,
     "metadata": {},
     "output_type": "execute_result"
    }
   ],
   "source": [
    "df_all = pd.concat([player_salary_2011_df, df_all], ignore_index=True)\n",
    "len(df_all)"
   ]
  },
  {
   "cell_type": "code",
   "execution_count": 18,
   "metadata": {
    "collapsed": false
   },
   "outputs": [
    {
     "data": {
      "text/plain": [
       "(5328281.076246334, 341)"
      ]
     },
     "execution_count": 18,
     "metadata": {},
     "output_type": "execute_result"
    }
   ],
   "source": [
    "bin_list = nba_salary_player(2011)   #2010년 추가\n",
    "salary_2011_df = pd.DataFrame(bin_list)\n",
    "salary_2011_df.rename(columns={0: \"PLAYER_NAME\", 1: \"Salary\"}, inplace=True)\n",
    "player_2010_df = pd.read_csv(\"./2010_nba_player_data_set.csv\")\n",
    "# tmp = player_2010_df[\"GP\"] > 50\n",
    "# player_2010_df = player_2010_df[tmp]\n",
    "player_salary_2010_df = player_2010_df.merge(salary_2011_df, on=\"PLAYER_NAME\")\n",
    "player_salary_2010_df[\"Salary\"] = player_salary_2010_df[\"Salary\"].apply(lambda x: np.int(x.replace(\",\", \"\")))\n",
    "player_salary_2010_df[\"Salary\"].mean(), len(player_salary_2010_df)"
   ]
  },
  {
   "cell_type": "code",
   "execution_count": 19,
   "metadata": {
    "collapsed": false
   },
   "outputs": [
    {
     "data": {
      "text/plain": [
       "1662"
      ]
     },
     "execution_count": 19,
     "metadata": {},
     "output_type": "execute_result"
    }
   ],
   "source": [
    "df_all = pd.concat([player_salary_2010_df, df_all], ignore_index=True)\n",
    "len(df_all)"
   ]
  },
  {
   "cell_type": "code",
   "execution_count": 20,
   "metadata": {
    "collapsed": false
   },
   "outputs": [
    {
     "data": {
      "text/plain": [
       "(5257192.629943503, 354)"
      ]
     },
     "execution_count": 20,
     "metadata": {},
     "output_type": "execute_result"
    }
   ],
   "source": [
    "bin_list = nba_salary_player(2010)   #2009년 추가\n",
    "salary_2010_df = pd.DataFrame(bin_list)\n",
    "salary_2010_df.rename(columns={0: \"PLAYER_NAME\", 1: \"Salary\"}, inplace=True)\n",
    "player_2009_df = pd.read_csv(\"./2009_nba_player_data_set.csv\")\n",
    "# tmp = player_2009_df[\"GP\"] > 50\n",
    "# player_2009_df = player_2009_df[tmp]\n",
    "player_salary_2009_df = player_2009_df.merge(salary_2010_df, on=\"PLAYER_NAME\")\n",
    "player_salary_2009_df[\"Salary\"] = player_salary_2009_df[\"Salary\"].apply(lambda x: np.int(x.replace(\",\", \"\")))\n",
    "player_salary_2009_df[\"Salary\"].mean(), len(player_salary_2009_df)"
   ]
  },
  {
   "cell_type": "code",
   "execution_count": 21,
   "metadata": {
    "collapsed": false
   },
   "outputs": [
    {
     "data": {
      "text/plain": [
       "2016"
      ]
     },
     "execution_count": 21,
     "metadata": {},
     "output_type": "execute_result"
    }
   ],
   "source": [
    "df_all = pd.concat([player_salary_2009_df, df_all], ignore_index=True)\n",
    "len(df_all)"
   ]
  },
  {
   "cell_type": "code",
   "execution_count": 22,
   "metadata": {
    "collapsed": false
   },
   "outputs": [
    {
     "data": {
      "text/plain": [
       "(5469186.439093485, 353)"
      ]
     },
     "execution_count": 22,
     "metadata": {},
     "output_type": "execute_result"
    }
   ],
   "source": [
    "bin_list = nba_salary_player(2009)   #2008년 추가\n",
    "salary_2009_df = pd.DataFrame(bin_list)\n",
    "salary_2009_df.rename(columns={0: \"PLAYER_NAME\", 1: \"Salary\"}, inplace=True)\n",
    "player_2008_df = pd.read_csv(\"./2008_nba_player_data_set.csv\")\n",
    "# tmp = player_2008_df[\"GP\"] > 50\n",
    "# player_2008_df = player_2008_df[tmp]\n",
    "player_salary_2008_df = player_2008_df.merge(salary_2009_df, on=\"PLAYER_NAME\")\n",
    "player_salary_2008_df[\"Salary\"] = player_salary_2008_df[\"Salary\"].apply(lambda x: np.int(x.replace(\",\", \"\")))\n",
    "player_salary_2008_df[\"Salary\"].mean(), len(player_salary_2008_df)"
   ]
  },
  {
   "cell_type": "code",
   "execution_count": 23,
   "metadata": {
    "collapsed": false
   },
   "outputs": [
    {
     "data": {
      "text/plain": [
       "2369"
      ]
     },
     "execution_count": 23,
     "metadata": {},
     "output_type": "execute_result"
    }
   ],
   "source": [
    "df_all = pd.concat([player_salary_2008_df, df_all], ignore_index=True)\n",
    "len(df_all)"
   ]
  },
  {
   "cell_type": "code",
   "execution_count": 24,
   "metadata": {
    "collapsed": false
   },
   "outputs": [
    {
     "data": {
      "text/plain": [
       "(5640090.470760234, 342)"
      ]
     },
     "execution_count": 24,
     "metadata": {},
     "output_type": "execute_result"
    }
   ],
   "source": [
    "bin_list = nba_salary_player(2008)   #2007년 추가\n",
    "salary_2008_df = pd.DataFrame(bin_list)\n",
    "salary_2008_df.rename(columns={0: \"PLAYER_NAME\", 1: \"Salary\"}, inplace=True)\n",
    "player_2007_df = pd.read_csv(\"./2007_nba_player_data_set.csv\")\n",
    "# tmp = player_2007_df[\"GP\"] > 50\n",
    "# player_2007_df = player_2007_df[tmp]\n",
    "player_salary_2007_df = player_2007_df.merge(salary_2008_df, on=\"PLAYER_NAME\")\n",
    "player_salary_2007_df[\"Salary\"] = player_salary_2007_df[\"Salary\"].apply(lambda x: np.int(x.replace(\",\", \"\")))\n",
    "player_salary_2007_df[\"Salary\"].mean(), len(player_salary_2007_df)"
   ]
  },
  {
   "cell_type": "code",
   "execution_count": 25,
   "metadata": {
    "collapsed": false
   },
   "outputs": [
    {
     "data": {
      "text/plain": [
       "2711"
      ]
     },
     "execution_count": 25,
     "metadata": {},
     "output_type": "execute_result"
    }
   ],
   "source": [
    "df_all = pd.concat([player_salary_2007_df, df_all], ignore_index=True)\n",
    "len(df_all)"
   ]
  },
  {
   "cell_type": "code",
   "execution_count": 26,
   "metadata": {
    "collapsed": false
   },
   "outputs": [
    {
     "data": {
      "text/plain": [
       "(5034361.794117647, 340)"
      ]
     },
     "execution_count": 26,
     "metadata": {},
     "output_type": "execute_result"
    }
   ],
   "source": [
    "bin_list = nba_salary_player(2007)   #2006년은 확 떨어져서 배제\n",
    "salary_2007_df = pd.DataFrame(bin_list)\n",
    "salary_2007_df.rename(columns={0: \"PLAYER_NAME\", 1: \"Salary\"}, inplace=True)\n",
    "player_2006_df = pd.read_csv(\"./2006_nba_player_data_set.csv\")\n",
    "# tmp = player_2006_df[\"GP\"] > 50\n",
    "# player_2006_df = player_2006_df[tmp]\n",
    "player_salary_2006_df = player_2006_df.merge(salary_2007_df, on=\"PLAYER_NAME\")\n",
    "player_salary_2006_df[\"Salary\"] = player_salary_2006_df[\"Salary\"].apply(lambda x: np.int(x.replace(\",\", \"\")))\n",
    "player_salary_2006_df[\"Salary\"].mean(), len(player_salary_2006_df)"
   ]
  },
  {
   "cell_type": "code",
   "execution_count": 27,
   "metadata": {
    "collapsed": false
   },
   "outputs": [
    {
     "data": {
      "text/plain": [
       "(4756220.8537313435, 335)"
      ]
     },
     "execution_count": 27,
     "metadata": {},
     "output_type": "execute_result"
    }
   ],
   "source": [
    "bin_list = nba_salary_player(2006)   #2005년부터는 배제\n",
    "salary_2006_df = pd.DataFrame(bin_list)\n",
    "salary_2006_df.rename(columns={0: \"PLAYER_NAME\", 1: \"Salary\"}, inplace=True)\n",
    "player_2005_df = pd.read_csv(\"./2005_nba_player_data_set.csv\")\n",
    "player_salary_2005_df = player_2005_df.merge(salary_2006_df, on=\"PLAYER_NAME\")\n",
    "player_salary_2005_df[\"Salary\"] = player_salary_2005_df[\"Salary\"].apply(lambda x: np.int(x.replace(\",\", \"\")))\n",
    "player_salary_2005_df[\"Salary\"].mean(), len(player_salary_2005_df)"
   ]
  },
  {
   "cell_type": "markdown",
   "metadata": {},
   "source": [
    "* 총 정리하면 2014, 2013, 2012, 2011, 2010, 2009, 2008, 2007년 등 8년치의 데이터까지만 수집\n",
    "\n",
    "* 선수 데이터는 총 2708명\n",
    "\n",
    "* df_all.csv에 저장 후 활용\n",
    "\n",
    "================================================================================================="
   ]
  },
  {
   "cell_type": "code",
   "execution_count": 28,
   "metadata": {
    "collapsed": true
   },
   "outputs": [],
   "source": [
    "df_all.to_csv(\"df_all\")"
   ]
  },
  {
   "cell_type": "code",
   "execution_count": 29,
   "metadata": {
    "collapsed": false
   },
   "outputs": [],
   "source": [
    "df_all = pd.read_csv(\"df_all\")"
   ]
  }
 ],
 "metadata": {
  "anaconda-cloud": {},
  "kernelspec": {
   "display_name": "Python [Root]",
   "language": "python",
   "name": "Python [Root]"
  },
  "language_info": {
   "codemirror_mode": {
    "name": "ipython",
    "version": 3
   },
   "file_extension": ".py",
   "mimetype": "text/x-python",
   "name": "python",
   "nbconvert_exporter": "python",
   "pygments_lexer": "ipython3",
   "version": "3.5.1"
  }
 },
 "nbformat": 4,
 "nbformat_minor": 0
}
